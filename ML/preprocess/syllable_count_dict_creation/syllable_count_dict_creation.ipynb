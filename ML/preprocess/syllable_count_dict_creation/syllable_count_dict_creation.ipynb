{
 "cells": [
  {
   "cell_type": "markdown",
   "metadata": {},
   "source": [
    "Import dependencies"
   ]
  },
  {
   "cell_type": "code",
   "execution_count": 1,
   "metadata": {},
   "outputs": [],
   "source": [
    "from nltk.corpus import cmudict \n",
    "import statistics\n",
    "import json"
   ]
  },
  {
   "cell_type": "markdown",
   "metadata": {},
   "source": [
    "Define how the syllable count of a given word in the nltk's CUM dictionary is extracted."
   ]
  },
  {
   "cell_type": "code",
   "execution_count": 2,
   "metadata": {},
   "outputs": [],
   "source": [
    "CMU_DICT = cmudict.dict()\n",
    "\n",
    "\"\"\"\n",
    "It extracts the syllable count of a word from the CMU dictionary.\n",
    "\n",
    "Since each syllable segment ends with a number, \n",
    "it simply counts the number of such segments per word.\n",
    "This is based on the stackoverflow post:\n",
    "https://stackoverflow.com/questions/405161/detecting-syllables-in-a-word/4103234#4103234\n",
    "\n",
    "Changes from post:\n",
    "- The list comprehension is unrolled for clarity.\n",
    "- It takes the mode of the possible syllable lengths of a given word.\n",
    "\"\"\"\n",
    "\n",
    "\n",
    "def getSyllablecount(word):\n",
    "    word_variants_syll_len = []\n",
    "    for word_variant in CMU_DICT[word.lower()]:\n",
    "        count = 0\n",
    "        for segment in word_variant:\n",
    "            if segment[-1].isdigit():\n",
    "                count += 1\n",
    "        word_variants_syll_len.append(count)\n",
    "    return statistics.mode(word_variants_syll_len)\n"
   ]
  },
  {
   "cell_type": "markdown",
   "metadata": {},
   "source": [
    "Write the extracted syllable count of each word in the CMU dict into a json."
   ]
  },
  {
   "cell_type": "code",
   "execution_count": 3,
   "metadata": {},
   "outputs": [],
   "source": [
    "CMU_WORDS = cmudict.words()\n",
    "\n",
    "def createSyllableCountDictionary():\n",
    "    syllable_dict = {}\n",
    "    for word in CMU_WORDS:\n",
    "        syllable_dict[word] = getSyllablecount(word)\n",
    "    with open(\"../../../data/syllableCountDict.json\", \"w\") as fp:\n",
    "        json.dump(syllable_dict, fp)\n",
    "        \n",
    "createSyllableCountDictionary()"
   ]
  }
 ],
 "metadata": {
  "interpreter": {
   "hash": "c2d7d91f3408f3314cd4551229bc17f807d1b83d3fd61e9bf22d33a46feb6fc7"
  },
  "kernelspec": {
   "display_name": "Python 3.9.7 ('divorcePred')",
   "language": "python",
   "name": "python3"
  },
  "language_info": {
   "codemirror_mode": {
    "name": "ipython",
    "version": 3
   },
   "file_extension": ".py",
   "mimetype": "text/x-python",
   "name": "python",
   "nbconvert_exporter": "python",
   "pygments_lexer": "ipython3",
   "version": "3.9.7"
  },
  "orig_nbformat": 4
 },
 "nbformat": 4,
 "nbformat_minor": 2
}
